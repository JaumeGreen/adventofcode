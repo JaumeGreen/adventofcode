{
 "cells": [
  {
   "cell_type": "code",
   "execution_count": null,
   "metadata": {
    "dotnet_interactive": {
     "language": "csharp"
    }
   },
   "outputs": [
    {
     "name": "stdout",
     "output_type": "stream",
     "text": [
      "25,8,32,53,22,94,55,80,33,4...\r\n"
     ]
    }
   ],
   "source": [
    "using System.IO;\n",
    "\n",
    "var filedata = File.ReadLines(@\"..\\day4.input\");\n",
    "var draw = filedata.First().Split(',').Select(Int32.Parse);\n",
    "Console.WriteLine($\"{string.Join(\",\",draw.Take(10))}...\");"
   ]
  },
  {
   "cell_type": "code",
   "execution_count": null,
   "metadata": {
    "dotnet_interactive": {
     "language": "csharp"
    }
   },
   "outputs": [
    {
     "name": "stdout",
     "output_type": "stream",
     "text": [
      "25 83 15 27 22\r\n",
      "97 81 12 80 52\r\n",
      "65 58 91 23 36\r\n",
      "77 60 49 43 95\r\n",
      "13 21 56 78 99\r\n",
      "\r\n",
      " 25 83 15 27 22\r\n",
      " 97 81 12 80 52\r\n",
      " 65 58 91 23 36\r\n",
      " 77 60 49 43 95\r\n",
      " 13 21 56 78 99\r\n"
     ]
    }
   ],
   "source": [
    "var data=filedata.Skip(2);\n",
    "List<int[,]> boards = new();\n",
    "var chunks = data.Chunk(6);\n",
    "\n",
    "foreach (var o in chunks.First())\n",
    "{\n",
    "    Console.WriteLine(o);\n",
    "}\n",
    "\n",
    "foreach (var chunk in chunks)\n",
    "{\n",
    "    int[,] curBoard = new int[5,5];\n",
    "    var dividedChunk = chunk.Select(x=>\n",
    "                                    x.Split(\" \",StringSplitOptions.RemoveEmptyEntries)\n",
    "                                     .ToArray())\n",
    "                            .ToArray();\n",
    "    for (var i=0; i<5; i++)\n",
    "        for (var j=0; j<5; j++)\n",
    "            curBoard[i,j] = Int32.Parse(dividedChunk[i][j]);\n",
    "    boards.Add(curBoard);\n",
    "}\n",
    "\n",
    "var b = boards.First();\n",
    "for (var i=0; i<5; i++)\n",
    "{\n",
    "    for (var j=0; j<5; j++)\n",
    "        Console.Write($\" {b[i,j]}\");\n",
    "    Console.WriteLine();\n",
    "}"
   ]
  },
  {
   "cell_type": "code",
   "execution_count": null,
   "metadata": {
    "dotnet_interactive": {
     "language": "csharp"
    }
   },
   "outputs": [],
   "source": [
    "bool rcWin (int draw, int[,] board)\n",
    "{\n",
    "    int ni =-1;\n",
    "    int nj =-1;\n",
    "    for (var i=0; i<5 && ni==-1; i++)\n",
    "        for (var j=0; j<5 && nj==-1; j++)\n",
    "            if (board[i,j]==draw)\n",
    "            {\n",
    "                board[i,j]=-1;\n",
    "                ni=i;nj=j;\n",
    "            }\n",
    "    if (ni!=-1)\n",
    "    {\n",
    "        var win = true;\n",
    "        for (var j=0; j<5; j++)\n",
    "            if (board[ni,j]!=-1)\n",
    "            {\n",
    "                win=false;\n",
    "                break;\n",
    "            }\n",
    "        if (win) return true;\n",
    "        win = true;\n",
    "        for (var i=0; i<5; i++)\n",
    "            if (board[i,nj]!=-1)\n",
    "            {\n",
    "                win=false;\n",
    "                break;\n",
    "            }\n",
    "        return win;\n",
    "    }\n",
    "    return false;\n",
    "}"
   ]
  },
  {
   "cell_type": "code",
   "execution_count": null,
   "metadata": {
    "dotnet_interactive": {
     "language": "csharp"
    }
   },
   "outputs": [
    {
     "name": "stdout",
     "output_type": "stream",
     "text": [
      "100 boards and 100 numbers drawn\r\n",
      "Won First! 76\r\n",
      " 38 27 -1 37 44\r\n",
      " 98 9 13 45 57\r\n",
      " -1 -1 -1 -1 -1\r\n",
      " 19 7 77 50 -1\r\n",
      " 71 -1 -1 46 20\r\n",
      "658 => 50008\r\n",
      "2-56 3-78 4-28 5-29 6-29 7-96 8-23 9-52 10-41 11-50 12-13 13-13 14-13 15-72 16-72 17-92 18-92 19-92 20-92 21-92 22-92 23-83 24-83 25-83 26-83 27-83 28-83 29-83 30-62 31-62 32-62 33-37 34-37 35-18 36-18 37-34 38-34 39-34 40-71 41-71 42-71 43-71 44-71 45-85 46-85 47-85 48-85 49-85 50-27 51-27 52-27 53-27 54-27 55-12 56-12 57-12 58-12 59-24 60-24 61-73 62-7 63-7 64-77 65-10 66-93 67-93 68-93 69-93 70-15 71-15 72-15 73-15 74-15 75-61 76-61 77-61 78-61 79-61 80-3 81-46 82-46 83-46 84-46 85-97 86-1 87-1 88-1 89-1 90-57 91-65 92-40 93-40 94-40 95-48 96-69 97-69 98-20 99-20 Won Last! 68\r\n",
      " -1 -1 -1 -1 67\r\n",
      " -1 -1 -1 19 -1\r\n",
      " 87 -1 -1 -1 -1\r\n",
      " -1 45 38 -1 -1\r\n",
      " -1 -1 -1 -1 -1\r\n",
      "256 => 17408\r\n"
     ]
    }
   ],
   "source": [
    "bool found = false;\n",
    "var cb = boards.Count();\n",
    "var wb = 0;\n",
    "Console.WriteLine($\"{cb} boards and {draw.Count()} numbers drawn\");\n",
    "foreach (var d in draw)\n",
    "{\n",
    "    foreach (var b in boards)\n",
    "    {\n",
    "        if (rcWin(d,b))\n",
    "        {\n",
    "            wb++;\n",
    "            if (wb==1 || wb>=cb)\n",
    "            {\n",
    "                if (wb==1) Console.WriteLine($\"Won First! {d}\");\n",
    "                else Console.WriteLine($\"Won Last! {d}\");\n",
    "\n",
    "                for (var i=0; i<5; i++)\n",
    "                {\n",
    "                    for (var j=0; j<5; j++)\n",
    "                        Console.Write($\" {b[i,j]}\");\n",
    "                    Console.WriteLine();\n",
    "                }\n",
    "                var sum = 0;\n",
    "                for (var i=0; i<5; i++)\n",
    "                    for (var j=0; j<5; j++)\n",
    "                        if (b[i,j]!=-1)\n",
    "                            sum+=b[i,j];\n",
    "                Console.WriteLine($\"{sum} => {sum*d}\");\n",
    "            }\n",
    "            else Console.Write($\"{wb}-{d} \");\n",
    "            if (wb==cb)\n",
    "            {\n",
    "                found = true;\n",
    "                break;\n",
    "            }\n",
    "            for (var i=0; i<5; i++)\n",
    "                for (var j=0; j<5; j++)\n",
    "                    b[i,j]=-1;\n",
    "        }\n",
    "    }\n",
    "    if (found) break;\n",
    "}\n",
    "//7452 too low"
   ]
  }
 ],
 "metadata": {
  "kernelspec": {
   "display_name": ".NET (C#)",
   "language": "C#",
   "name": ".net-csharp"
  },
  "language_info": {
   "name": "C#"
  }
 },
 "nbformat": 4,
 "nbformat_minor": 2
}
