{
 "cells": [
  {
   "cell_type": "code",
   "execution_count": null,
   "metadata": {
    "dotnet_interactive": {
     "language": "csharp"
    }
   },
   "outputs": [
    {
     "name": "stdout",
     "output_type": "stream",
     "text": [
      "243939\r\n"
     ]
    }
   ],
   "source": [
    "using System.IO;\n",
    "\n",
    "var filedata = File.ReadLines(@\"..\\day10.input\");\n",
    "\n",
    "long Value(char c)=>c switch {\n",
    "    ')'=>3,\n",
    "    ']'=>57,\n",
    "    '}'=>1197,\n",
    "    '>'=>25137\n",
    "};\n",
    "bool Complementary(char k, char c)=>(k,c) switch {\n",
    "    ('(',')')=>true,\n",
    "    ('[',']')=>true,\n",
    "    ('{','}')=>true,\n",
    "    ('<','>')=>true,\n",
    "    _=>false\n",
    "};\n",
    "long Points(string l)\n",
    "{\n",
    "    Stack<char> s = new();\n",
    "    foreach (var c in l)\n",
    "    {\n",
    "        if (c is ')' or ']' or '}' or '>')\n",
    "        {\n",
    "            if (!s.Any())\n",
    "                return Value(c);\n",
    "            var k=s.Pop();\n",
    "            if (!Complementary(k,c))\n",
    "                return Value(c);\n",
    "        }\n",
    "        else s.Push(c);\n",
    "    }\n",
    "    return 0;\n",
    "}\n",
    "\n",
    "var data = filedata.Sum(x=>Points(x));\n",
    "Console.WriteLine(data);\n"
   ]
  },
  {
   "cell_type": "code",
   "execution_count": null,
   "metadata": {
    "dotnet_interactive": {
     "language": "csharp"
    }
   },
   "outputs": [
    {
     "name": "stdout",
     "output_type": "stream",
     "text": [
      "2421222841\r\n"
     ]
    }
   ],
   "source": [
    "long Value2(char c)=>c switch {\n",
    "    '('=>1,\n",
    "    '['=>2,\n",
    "    '{'=>3,\n",
    "    '<'=>4\n",
    "};\n",
    "long Points2(string l)\n",
    "{\n",
    "    Stack<char> s = new();\n",
    "    foreach (var c in l)\n",
    "    {\n",
    "        if (c is ')' or ']' or '}' or '>')\n",
    "        {\n",
    "            if (!s.Any())\n",
    "                return -1;\n",
    "            var k=s.Pop();\n",
    "            if (!Complementary(k,c))\n",
    "                return -1;\n",
    "        }\n",
    "        else s.Push(c);\n",
    "    }\n",
    "    long p=0;\n",
    "    while (s.Any())\n",
    "    {\n",
    "        p*=5;\n",
    "        p+=Value2(s.Pop());\n",
    "    }\n",
    "    return p;\n",
    "}\n",
    "var data2 = filedata.Select(x=>Points2(x))\n",
    "                    .Where(x=>x!=-1)\n",
    "                    .OrderBy(x=>x);\n",
    "var result = data2.Skip((data2.Count()-1)/2).First();\n",
    "Console.WriteLine(result);"
   ]
  }
 ],
 "metadata": {
  "kernelspec": {
   "display_name": ".NET (C#)",
   "language": "C#",
   "name": ".net-csharp"
  },
  "language_info": {
   "name": "C#"
  }
 },
 "nbformat": 4,
 "nbformat_minor": 2
}
