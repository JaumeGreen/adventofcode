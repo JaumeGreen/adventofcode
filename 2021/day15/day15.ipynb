{
 "cells": [
  {
   "cell_type": "code",
   "execution_count": null,
   "metadata": {
    "dotnet_interactive": {
     "language": "csharp"
    }
   },
   "outputs": [
    {
     "name": "stdout",
     "output_type": "stream",
     "text": [
      "415\r\n"
     ]
    }
   ],
   "source": [
    "using System.IO;\n",
    "\n",
    "var filedata = File.ReadLines(@\"..\\day15.input\");\n",
    "var numbers = filedata.Select(x=>x.ToCharArray()\n",
    "                                .Select(c=>Int32.Parse(c.ToString()))\n",
    "                                .Select(x=>(x,Int32.MaxValue))\n",
    "                                .ToArray())\n",
    "                        .ToArray();\n",
    "\n",
    "var maxx = numbers[0].Length-1;\n",
    "var maxy = numbers.Length-1;\n",
    "\n",
    "void printmap()\n",
    "{\n",
    "    for (var j=0;j<=maxy;j++)\n",
    "    {\n",
    "        for (var i=0;i<=maxy;i++)\n",
    "        {\n",
    "            Console.Write(numbers[j][i].Item1.ToString(\" 0\"));\n",
    "        }\n",
    "        Console.WriteLine();\n",
    "    }\n",
    "    Console.WriteLine();\n",
    "}\n",
    "\n",
    "void printpath()\n",
    "{\n",
    "    for (var j=0;j<=maxy;j++)\n",
    "    {\n",
    "        for (var i=0;i<=maxy;i++)\n",
    "        {\n",
    "            Console.Write(numbers[j][i].Item2.ToString(\" 000000\"));\n",
    "        }\n",
    "        Console.WriteLine();\n",
    "    }\n",
    "    Console.WriteLine();\n",
    "}\n",
    "\n",
    "numbers[maxy][maxy].Item2 = 0;\n",
    "\n",
    "Stack<(int,int)> work = new();\n",
    "work.Push((maxy,maxx));\n",
    "\n",
    "void LowerPath (int y, int x, int weight)\n",
    "{\n",
    "    if (y<0 || y>maxy ||\n",
    "        x<0 || x>maxx )\n",
    "        return ;\n",
    "    if (numbers[y][x].Item2 <= weight)\n",
    "        return ;\n",
    "    numbers[y][x].Item2 = weight;\n",
    "    work.Push((y,x));\n",
    "}\n",
    "\n",
    "while (work.Any())\n",
    "{\n",
    "    //printmap();\n",
    "    //printpath();\n",
    "    var point = work.Pop();\n",
    "    var current = numbers[point.Item1][point.Item2];\n",
    "    var weight = current.Item1+current.Item2;\n",
    "    LowerPath(point.Item1-1, point.Item2, weight);\n",
    "    LowerPath(point.Item1+1, point.Item2, weight);\n",
    "    LowerPath(point.Item1, point.Item2-1, weight);\n",
    "    LowerPath(point.Item1, point.Item2+1, weight);\n",
    "}\n",
    "//printmap();\n",
    "//printpath();\n",
    "Console.WriteLine($\"{numbers[0][0].Item2}\");\n",
    "//292 too low"
   ]
  },
  {
   "cell_type": "code",
   "execution_count": null,
   "metadata": {
    "dotnet_interactive": {
     "language": "csharp"
    }
   },
   "outputs": [
    {
     "name": "stdout",
     "output_type": "stream",
     "text": [
      "map done 499, 499\r\n"
     ]
    }
   ],
   "source": [
    "using System.IO;\n",
    "var filedata2 = File.ReadLines(@\"..\\day15.input\");\n",
    "var numbers2 = filedata2.Select(x=>x.ToCharArray()\n",
    "                                .Select(c=>Int32.Parse(c.ToString()))\n",
    "                                .Select(x=>(x,Int32.MaxValue))\n",
    "                                .ToList())\n",
    "                        .ToList();\n",
    "\n",
    "var yfactor = numbers2.Count;\n",
    "List< List < (int,int) > > bigmap = new();\n",
    "\n",
    "bigmap.AddRange(numbers2);\n",
    "\n",
    "for (var i=0; i<4; i++)\n",
    "{\n",
    "    bigmap.AddRange(numbers2.Select(y=>y.Select(x=>(((x.Item1+i)%9)+1, x.Item2))\n",
    "                                        .ToList())\n",
    "                            .ToList());\n",
    "}\n",
    "/*foreach (var row in bigmap)\n",
    "{\n",
    "    foreach (var item in row)\n",
    "        Console.Write(item.Item1);\n",
    "    Console.WriteLine();\n",
    "}\n",
    "Console.WriteLine();*/\n",
    "foreach (var row in bigmap)\n",
    "{\n",
    "    var adder = row.ToList();\n",
    "    for (var i=0; i<4; i++)\n",
    "    {\n",
    "        row.AddRange(adder.Select(x=>(((x.Item1+i)%9)+1, x.Item2)));\n",
    "    }\n",
    "}\n",
    "\n",
    "/*foreach (var row in bigmap)\n",
    "{\n",
    "    foreach (var item in row)\n",
    "        Console.Write(item.Item1);\n",
    "    Console.WriteLine();\n",
    "}*/\n",
    "var maxy = bigmap.Count-1;\n",
    "var maxx = bigmap[0].Count-1;\n",
    "Console.WriteLine($\"map done {maxy}, {maxx}\");\n"
   ]
  },
  {
   "cell_type": "code",
   "execution_count": null,
   "metadata": {
    "dotnet_interactive": {
     "language": "csharp"
    }
   },
   "outputs": [],
   "source": [
    "\n",
    "List<(int,int,int)> work = new();\n",
    "List<(int,int)> visited = new();\n",
    "for (var j=0;j<=maxy;j++)\n",
    "{\n",
    "    for (var i=0;i<=maxx;i++)\n",
    "    {\n",
    "        var temp = bigmap[j][i];\n",
    "        temp.Item2=Int32.MaxValue;\n",
    "    }\n",
    "}\n",
    "var temp = bigmap[0][0];\n",
    "temp.Item2=0;\n",
    "work.Add((0,0,0));\n",
    "\n",
    "void LowerPath (int y, int x, int weight)\n",
    "{\n",
    "    if (visited.Any(p=>p.Item1==y&&p.Item2==x)) return;\n",
    "\n",
    "    if (y<0 || y>maxy ||\n",
    "        x<0 || x>maxx )\n",
    "        return ;\n",
    "\n",
    "    if ((weight+bigmap[y][x].Item1) >= bigmap[y][x].Item2)\n",
    "        return ;\n",
    "    var t = bigmap[y][x];\n",
    "    t.Item2 = weight+bigmap[y][x].Item1;\n",
    "    work.Add((y,x,t.Item2));\n",
    "}\n"
   ]
  },
  {
   "cell_type": "code",
   "execution_count": null,
   "metadata": {
    "dotnet_interactive": {
     "language": "csharp"
    }
   },
   "outputs": [
    {
     "name": "stdout",
     "output_type": "stream",
     "text": [
      "Working on point 0,0,0 of 0 left and 1 visited 0 0\r\n",
      "Working on point 70,84,334 of 404 left and 10001 visited 112 70\r\n",
      "Working on point 40,159,472 of 553 left and 20001 visited 161 40\r\n",
      "Working on point 195,25,583 of 638 left and 30001 visited 198 126\r\n",
      "Working on point 214,62,687 of 651 left and 40001 visited 230 112\r\n",
      "Working on point 1,254,784 of 770 left and 50001 visited 258 1\r\n",
      "Working on point 188,192,872 of 860 left and 60001 visited 282 233\r\n",
      "Working on point 218,189,955 of 905 left and 70001 visited 305 248\r\n",
      "Working on point 243,190,1038 of 901 left and 80001 visited 325 238\r\n",
      "Working on point 171,287,1118 of 1002 left and 90001 visited 347 171\r\n",
      "Working on point 82,360,1196 of 1015 left and 100001 visited 366 82\r\n",
      "Working on point 371,89,1272 of 1002 left and 110001 visited 386 274\r\n",
      "Working on point 393,80,1345 of 1081 left and 120001 visited 404 111\r\n",
      "Working on point 85,417,1417 of 1174 left and 130001 visited 420 85\r\n",
      "Working on point 340,223,1488 of 1201 left and 140001 visited 437 362\r\n",
      "Working on point 297,289,1555 of 1260 left and 150001 visited 452 297\r\n",
      "Working on point 218,385,1622 of 1286 left and 160001 visited 467 437\r\n",
      "Working on point 479,2,1687 of 1343 left and 170001 visited 481 170\r\n",
      "Working on point 332,321,1749 of 1310 left and 180001 visited 497 412\r\n",
      "Working on point 240,425,1825 of 1001 left and 190001 visited 499 240\r\n",
      "Working on point 378,317,1915 of 909 left and 200001 visited 499 468\r\n",
      "Working on point 481,224,2018 of 795 left and 210001 visited 499 480\r\n",
      "Working on point 457,288,2141 of 684 left and 220001 visited 499 457\r\n",
      "Working on point 480,304,2282 of 569 left and 230001 visited 499 431\r\n",
      "Working on point 434,428,2456 of 403 left and 240001 visited 499 457\r\n",
      "point 499,499,2864\r\n",
      "499499 2147483647\r\n"
     ]
    }
   ],
   "source": [
    "\n",
    "long it = 0;\n",
    "int a=0, b=0;\n",
    "while (work.Any())\n",
    "{\n",
    "    //printmap();\n",
    "    //printpath();\n",
    "    var point = work.MinBy(x=>x.Item3);\n",
    "    work.RemoveAll(x=>x.Item1==point.Item1 && x.Item2==point.Item2);\n",
    "    visited.Add((point.Item1, point.Item2));\n",
    "    if (point.Item1>a)\n",
    "        a= point.Item1;\n",
    "    if (point.Item2>b)\n",
    "        b= point.Item2;\n",
    "    if (it++%10000==0)\n",
    "    {\n",
    "        Console.WriteLine($\"Working on point {point.Item1},{point.Item2},{point.Item3} of {work.Count} left and {visited.Count} visited {a} {b}\");\n",
    "    }\n",
    "    if (point.Item1==maxy && point.Item2==maxx) \n",
    "    {\n",
    "        Console.WriteLine($\"point {point.Item1},{point.Item2},{point.Item3}\");\n",
    "        break;\n",
    "    }\n",
    "    var weight = point.Item3;\n",
    "    LowerPath(point.Item1-1, point.Item2, weight);\n",
    "    LowerPath(point.Item1+1, point.Item2, weight);\n",
    "    LowerPath(point.Item1, point.Item2-1, weight);\n",
    "    LowerPath(point.Item1, point.Item2+1, weight);\n",
    "}\n",
    "//printmap();\n",
    "//printpath();\n",
    "Console.WriteLine($\"{maxy}{maxx} {bigmap[maxy][maxx].Item2}\");\n",
    "//28m 35.6s!!!!"
   ]
  }
 ],
 "metadata": {
  "kernelspec": {
   "display_name": ".NET (C#)",
   "language": "C#",
   "name": ".net-csharp"
  },
  "language_info": {
   "name": "C#"
  }
 },
 "nbformat": 4,
 "nbformat_minor": 2
}
