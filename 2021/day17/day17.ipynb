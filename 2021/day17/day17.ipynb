{
 "cells": [
  {
   "cell_type": "markdown",
   "metadata": {},
   "source": [
    "To be able to achieve maximum height we need to be able to fall into the area vertically, thus we can disregard completely the component x. Just assume it's in a value that will reach 0 between the area.\n",
    "\n",
    "My target y position was in the negatives. We know that the same speed we will reach upwards will be the speed with which we will reach 0. For example, with speed 3 (speed, new position): (3,3), (2,5), (1,6), (0,6), (-1,5), (-2,3), (-3,0), (-4,-4)....\n",
    "\n",
    "The higher the initial velocity the higher the height too, thus we need to select the initial velocity so that initial+1 (in negative) falls at the lower end of the target.\n",
    "\n",
    "So if the target is -100, -50 we need an initial velocity of 99 in the y department. One less than the absolute number of the minimum y target number.\n",
    "\n",
    "Calculating maximum height is nothing more than the sum of 1+2+...+N-1+N, which is (N+1)*N/2."
   ]
  },
  {
   "cell_type": "code",
   "execution_count": null,
   "metadata": {
    "dotnet_interactive": {
     "language": "csharp"
    }
   },
   "outputs": [
    {
     "name": "stdout",
     "output_type": "stream",
     "text": [
      "9180\r\n"
     ]
    }
   ],
   "source": [
    "var y=-136; //put value by hand\n",
    "var initialvelocity = (-1*y) -1;\n",
    "var maxheight = (initialvelocity+1)*initialvelocity/2;\n",
    "Console.WriteLine(maxheight);"
   ]
  },
  {
   "cell_type": "markdown",
   "metadata": {},
   "source": [
    "target area: x=150..193, y=-136..-86\n",
    "\n",
    "https://www.wolframalpha.com/input/?i=x%5E2%2Bx%3D2y+solve+for+x\n",
    "\n",
    "x=1/2([-+]sqr(8y+1)-1)\n",
    "\n",
    "We get 16.8 from 150, so 16 is lower, 17 is sligthly higher\n",
    "\n",
    "x 17 = min velocity to reach area\n",
    "x 193 = max velocity to reach area\n",
    "y -136 = min velocity to reach area\n",
    "y 135 = max velocity to reach area"
   ]
  },
  {
   "cell_type": "code",
   "execution_count": null,
   "metadata": {
    "dotnet_interactive": {
     "language": "csharp"
    }
   },
   "outputs": [
    {
     "name": "stdout",
     "output_type": "stream",
     "text": [
      "3767\r\n"
     ]
    }
   ],
   "source": [
    "var xmin = 150;\n",
    "var xmax = 193;\n",
    "var ymin = -136;\n",
    "var ymax = -86;\n",
    "\n",
    "bool InArea(int vx, int vy)\n",
    "{\n",
    "    var x=0;\n",
    "    var y=0;\n",
    "    for (var t=0; x<xmax && y>ymin ;t++)\n",
    "    {\n",
    "        x+=vx;\n",
    "        vx-=(vx>0?1:0);\n",
    "        y+=vy;\n",
    "        vy--;\n",
    "\n",
    "        if (x>=xmin && x<=xmax &&\n",
    "            y>=ymin && y<=ymax )\n",
    "            return true;\n",
    "    }\n",
    "    return false;\n",
    "}\n",
    "\n",
    "var count = 0L;\n",
    "\n",
    "for (var i=17;i<=193;i++)\n",
    "    for (var j=-136;j<=135;j++)\n",
    "        if (InArea(i,j)) count++;\n",
    "Console.WriteLine(count);"
   ]
  },
  {
   "cell_type": "code",
   "execution_count": null,
   "metadata": {
    "dotnet_interactive": {
     "language": "csharp"
    }
   },
   "outputs": [],
   "source": []
  }
 ],
 "metadata": {
  "kernelspec": {
   "display_name": ".NET (C#)",
   "language": "C#",
   "name": ".net-csharp"
  },
  "language_info": {
   "name": "C#"
  }
 },
 "nbformat": 4,
 "nbformat_minor": 2
}
