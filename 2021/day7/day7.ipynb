{
 "cells": [
  {
   "cell_type": "code",
   "execution_count": null,
   "metadata": {
    "dotnet_interactive": {
     "language": "csharp"
    }
   },
   "outputs": [
    {
     "data": {
      "text/html": [
       "<div><div></div><div></div><div><strong>Installed Packages</strong><ul><li><span>MathNet.Numerics, 4.15.0</span></li></ul></div></div>"
      ]
     },
     "metadata": {},
     "output_type": "display_data"
    }
   ],
   "source": [
    "#r \"nuget: MathNet.Numerics, 4.15.0\""
   ]
  },
  {
   "cell_type": "code",
   "execution_count": null,
   "metadata": {
    "dotnet_interactive": {
     "language": "csharp"
    }
   },
   "outputs": [
    {
     "name": "stdout",
     "output_type": "stream",
     "text": [
      "Solution 328 cost 328187\r\n",
      "next 329 cost 328189\r\n",
      "Solution 327 cost 328193\r\n",
      "Solution 327 cost 328193\r\n"
     ]
    }
   ],
   "source": [
    "using System.IO;\n",
    "using MathNet.Numerics.Statistics;\n",
    "\n",
    "var filedata = File.ReadLines(@\"..\\day7.input\");\n",
    "var data = filedata.First()\n",
    "                   .Split(\",\")\n",
    "                   .Select(Double.Parse);\n",
    "var m = data.Median();\n",
    "\n",
    "double CalculateCost(double c, IEnumerable<double> l)=>l.Aggregate(0.0, (p,n)=>p+Math.Abs(n-c));\n",
    "\n",
    "var cost = CalculateCost(m,data);\n",
    "var nc = CalculateCost(m+1,data);\n",
    "var pc = CalculateCost(m-1,data);\n",
    "\n",
    "void inc(ref double x)=>x++;\n",
    "void dec(ref double x)=>x--;\n",
    "delegate void del(ref double number);\n",
    "if (pc>cost && nc>cost)\n",
    "    Console.WriteLine($\"Solution {m} cost {cost}\");\n",
    "\n",
    "Console.WriteLine($\"next {m+1} cost {nc}\");\n",
    "Console.WriteLine($\"previous {m-1} cost {pc}\");\n",
    "\n",
    "del nn=nc<cost?inc:dec;\n",
    "cost=nc<cost?nc:pc;\n",
    "nn(ref m);\n",
    "\n",
    "while(true)\n",
    "{\n",
    "    var nm = m;\n",
    "    nn(ref nm);\n",
    "    var nc = CalculateCost(nm, data);\n",
    "    if (nc>cost)\n",
    "        break;\n",
    "    m=nm;\n",
    "    cost = nc;\n",
    "}\n",
    "\n",
    "Console.WriteLine($\"Solution {m} cost {cost}\");\n"
   ]
  },
  {
   "cell_type": "code",
   "execution_count": null,
   "metadata": {
    "dotnet_interactive": {
     "language": "csharp"
    }
   },
   "outputs": [
    {
     "name": "stdout",
     "output_type": "stream",
     "text": [
      "Solution 464 cost 91257582\r\n",
      "next 465 cost 91257681\r\n",
      "previous 463 cost 91258483\r\n",
      "Solution 463 cost 91258483\r\n"
     ]
    }
   ],
   "source": [
    "double AgrSum(double n) => (n+1)*n/2;\n",
    "double CalculateCost2(double c, IEnumerable<double> l)=>l.Aggregate(0.0, (p,n)=>p+AgrSum(Math.Abs(n-c)));\n",
    "\n",
    "var m = Math.Floor(data.Mean());\n",
    "var cost = CalculateCost2(m,data);\n",
    "var nc = CalculateCost2(m+1,data);\n",
    "var pc = CalculateCost2(m-1,data);\n",
    "\n",
    "if (pc>cost && nc>cost)\n",
    "    Console.WriteLine($\"Solution {m} cost {cost}\");\n",
    "\n",
    "Console.WriteLine($\"next {m+1} cost {nc}\");\n",
    "Console.WriteLine($\"previous {m-1} cost {pc}\");\n",
    "\n",
    "del nn=nc<cost?inc:dec;\n",
    "cost=nc<cost?nc:pc;\n",
    "nn(ref m);\n",
    "\n",
    "while(true)\n",
    "{\n",
    "    var nm = m;\n",
    "    nn(ref nm);\n",
    "    var nc = CalculateCost2(nm, data);\n",
    "    if (nc>cost)\n",
    "        break;\n",
    "    m=nm;\n",
    "    cost = nc;\n",
    "}\n",
    "\n",
    "Console.WriteLine($\"Solution {m} cost {cost}\");\n"
   ]
  }
 ],
 "metadata": {
  "kernelspec": {
   "display_name": ".NET (C#)",
   "language": "C#",
   "name": ".net-csharp"
  },
  "language_info": {
   "name": "C#"
  }
 },
 "nbformat": 4,
 "nbformat_minor": 2
}
