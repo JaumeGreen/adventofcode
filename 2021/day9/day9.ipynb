{
 "cells": [
  {
   "cell_type": "code",
   "execution_count": null,
   "metadata": {
    "dotnet_interactive": {
     "language": "csharp"
    }
   },
   "outputs": [
    {
     "name": "stdout",
     "output_type": "stream",
     "text": [
      "504\r\n"
     ]
    }
   ],
   "source": [
    "using System.IO;\n",
    "\n",
    "var filedata = File.ReadLines(@\"..\\day9.input\");\n",
    "var numbers = filedata.Select(x=>x.ToCharArray()\n",
    "                                .Select(c=>Int32.Parse(c.ToString()))\n",
    "                                .ToArray())\n",
    "                        .ToArray();\n",
    "var maxy = numbers[0].Length-1;\n",
    "var maxx = numbers.Length-1;\n",
    "bool up(int i, int j)=>(j==0)?true:numbers[i][j]<numbers[i][j-1];\n",
    "bool down(int i, int j)=>(j==maxy)?true:numbers[i][j]<numbers[i][j+1];\n",
    "bool left(int i, int j)=>(i==0)?true:numbers[i][j]<numbers[i-1][j];\n",
    "bool right(int i, int j)=>(i==maxx)?true:numbers[i][j]<numbers[i+1][j];\n",
    "\n",
    "var sum =0L;\n",
    "for (var i=0;i<=maxx;i++)\n",
    "    for (var j=0;j<=maxy;j++)\n",
    "        if (up(i,j) && down(i,j) && left(i,j) && right(i,j))\n",
    "            sum+=numbers[i][j]+1;\n",
    "Console.WriteLine($\"{sum}\");\n"
   ]
  },
  {
   "cell_type": "code",
   "execution_count": null,
   "metadata": {
    "dotnet_interactive": {
     "language": "csharp"
    }
   },
   "outputs": [
    {
     "name": "stdout",
     "output_type": "stream",
     "text": [
      "18,89,25,23,4,4,71,11,41,2,84,7,43,83,23,43,87,11,16,14,30,29,3,3,3,33,77,21,15,47,47,4,90,19,40,3,7,69,13,53,42,15,38,15,47,13,83,2,71,41,24,43,39,30,84,7,42,3,21,3,2,50,76,89,12,7,2,14,33,114,17,12,59,12,60,40,27,102,11,3,112,20,10,5,45,34,41,52,44,39,30,19,64,38,22,31,41,56,9,110,43,54,57,7,20,5,30,79,97,5,55,5,22,21,47,15,4,67,21,2,32,121,25,30,51,25,62,37,4,3,49,21,34,26,97,55,25,11,93,3,40,37,9,82,8,5,88,14,5,2,42,27,112,23,24,72,35,8,11,25,31,84,12,31,11,3,32,32,7,29,4,70,71,53,4,30,16,4,27,31,45,91,113,4,4,51,29,2,4,11,41,27,68,101,2,22,26,18,102,38,32,3,2,7,11,17,66,11,4,31,52,42,48,26,12,18,5,6,7,6,4\r\n",
      "2,2,2,2,2,2,2,2,2,3,3,3,3,3,3,3,3,3,3,3,4,4,4,4,4,4,4,4,4,4,4,4,4,5,5,5,5,5,5,5,6,6,7,7,7,7,7,7,7,7,8,8,9,9,10,11,11,11,11,11,11,11,11,11,12,12,12,12,12,13,13,14,14,14,15,15,15,15,16,16,17,17,18,18,18,19,19,20,20,21,21,21,21,21,22,22,22,23,23,23,24,24,25,25,25,25,25,26,26,26,27,27,27,27,29,29,29,30,30,30,30,30,30,31,31,31,31,31,32,32,32,32,33,33,34,34,35,37,37,38,38,38,39,39,40,40,40,41,41,41,41,41,42,42,42,42,43,43,43,43,44,45,45,47,47,47,47,48,49,50,51,51,52,52,53,53,54,55,55,56,57,59,60,62,64,66,67,68,69,70,71,71,71,72,76,77,79,82,83,83,84,84,84,87,88,89,89,90,91,93,97,97,101,102,102,110,112,112,113,114,121\r\n",
      "1558722\r\n"
     ]
    }
   ],
   "source": [
    "var numbers = filedata.Select(x=>x.ToCharArray()\n",
    "                                .Select(c=>Int32.Parse(c.ToString()))\n",
    "                                .ToArray())\n",
    "                        .ToArray();\n",
    "var maxy = numbers[0].Length-1;\n",
    "var maxx = numbers.Length-1;\n",
    "\n",
    "List<int> basins =new();\n",
    "\n",
    "int EvaluateBasin(int i, int j)\n",
    "{\n",
    "    var sum=0;\n",
    "    Stack<(int,int)> points=new();\n",
    "    points.Push((i,j));\n",
    "    numbers[i][j]=9;\n",
    "    \n",
    "    while (points.Any())\n",
    "    {\n",
    "        sum++;\n",
    "        var cur = points.Pop();\n",
    "        for(var x=cur.Item1+1;x<=maxx && numbers[x][cur.Item2]!=9;x++)\n",
    "        {\n",
    "            points.Push((x,cur.Item2));\n",
    "            numbers[x][cur.Item2]=9;\n",
    "        }\n",
    "        for(var x=cur.Item1-1;x>=0 && numbers[x][cur.Item2]!=9;x--)\n",
    "        {\n",
    "            points.Push((x,cur.Item2));\n",
    "            numbers[x][cur.Item2]=9;\n",
    "        }\n",
    "        for(var y=cur.Item2+1;y<=maxy && numbers[cur.Item1][y]!=9;y++)\n",
    "        {\n",
    "            points.Push((cur.Item1,y));\n",
    "            numbers[cur.Item1][y]=9;\n",
    "        }\n",
    "        for(var y=cur.Item2-1;y>=0 && numbers[cur.Item1][y]!=9;y--)\n",
    "        {\n",
    "            points.Push((cur.Item1,y));\n",
    "            numbers[cur.Item1][y]=9;\n",
    "        }\n",
    "\n",
    "    }\n",
    "    return sum;\n",
    "}\n",
    "\n",
    "for (var i=0;i<=maxx;i++)\n",
    "    for (var j=0;j<=maxy;j++)\n",
    "    {\n",
    "        if (numbers[i][j]!=9)\n",
    "            basins.Add(EvaluateBasin(i,j));\n",
    "    }\n",
    "\n",
    "Console.WriteLine($\"{string.Join(\",\",basins)}\");\n",
    "basins.Sort();\n",
    "Console.WriteLine($\"{string.Join(\",\",basins)}\");\n",
    "basins.Reverse();\n",
    "\n",
    "var mul=1;\n",
    "foreach (var m in basins.Take(3))\n",
    "    mul*=m;\n",
    "Console.WriteLine(mul);"
   ]
  }
 ],
 "metadata": {
  "kernelspec": {
   "display_name": ".NET (C#)",
   "language": "C#",
   "name": ".net-csharp"
  },
  "language_info": {
   "name": "C#"
  }
 },
 "nbformat": 4,
 "nbformat_minor": 2
}
