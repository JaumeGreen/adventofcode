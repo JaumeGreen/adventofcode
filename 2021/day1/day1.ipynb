{
 "cells": [
  {
   "cell_type": "code",
   "execution_count": null,
   "metadata": {
    "dotnet_interactive": {
     "language": "csharp"
    }
   },
   "outputs": [
    {
     "name": "stdout",
     "output_type": "stream",
     "text": [
      "1228\r\n"
     ]
    }
   ],
   "source": [
    "using System.IO;\n",
    "\n",
    "var values = File.ReadAllLines(@\"..\\day1.input\").Select(Int32.Parse);\n",
    "var increase = values.Skip(1)\n",
    "                .Zip(values, (current, previous)=> current>previous)\n",
    "                .Count(x=>x);\n",
    "Console.WriteLine(increase);\n"
   ]
  },
  {
   "cell_type": "code",
   "execution_count": null,
   "metadata": {
    "dotnet_interactive": {
     "language": "csharp"
    }
   },
   "outputs": [
    {
     "name": "stdout",
     "output_type": "stream",
     "text": [
      "1257\r\n"
     ]
    }
   ],
   "source": [
    "var sum1 = values.Zip(values.Skip(1), (a,b)=>a+b);\n",
    "var sum2 = sum1.Zip(values.Skip(2), (a,b)=>a+b);\n",
    "//Console.WriteLine($\"{sum2.First()} & {sum2.Last()}\");\n",
    "var increase2 = sum2.Skip(1)\n",
    "                .Zip(sum2, (current, previous)=> current>previous)\n",
    "                .Count(x=>x);\n",
    "Console.WriteLine(increase2);\n"
   ]
  }
 ],
 "metadata": {
  "kernelspec": {
   "display_name": ".NET (C#)",
   "language": "C#",
   "name": ".net-csharp"
  },
  "language_info": {
   "name": "C#"
  }
 },
 "nbformat": 4,
 "nbformat_minor": 2
}
