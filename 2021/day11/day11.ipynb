{
 "cells": [
  {
   "cell_type": "code",
   "execution_count": null,
   "metadata": {
    "dotnet_interactive": {
     "language": "csharp"
    }
   },
   "outputs": [
    {
     "name": "stdout",
     "output_type": "stream",
     "text": [
      "Step 10 44 198\r\n",
      "Step 20 28 331\r\n",
      "Step 30 5 476\r\n",
      "Step 40 4 645\r\n",
      "Step 50 38 815\r\n",
      "Step 60 0 957\r\n",
      "Step 70 48 1123\r\n",
      "Step 80 41 1279\r\n",
      "Step 90 1 1387\r\n",
      "Step 100 4 1546\r\n",
      "1546\r\n"
     ]
    }
   ],
   "source": [
    "using System.IO;\n",
    "\n",
    "var filedata = File.ReadLines(@\"..\\day11.input\");\n",
    "var numbers = filedata.Select(x=>x.ToCharArray()\n",
    "                                .Select(c=>Int32.Parse(c.ToString()))\n",
    "                                .Select(c=>(c,false))\n",
    "                                .ToArray())\n",
    "                        .ToArray();\n",
    "var maxy = numbers[0].Length;\n",
    "var maxx = numbers.Length;\n",
    "\n",
    "void increase (int x, int y)\n",
    "{\n",
    "    var inix = x-1<0?0:x-1;\n",
    "    var iniy = y-1<0?0:y-1;\n",
    "    var endx = x+1>=maxx?x:x+1;\n",
    "    var endy = y+1>=maxy?y:y+1;\n",
    "    for (var i=inix;i<=endx;i++)\n",
    "        for (var j=iniy;j<=endy;j++)\n",
    "        {\n",
    "            if (!numbers[i][j].Item2 &&\n",
    "                 numbers[i][j].Item1<=9)\n",
    "                 numbers[i][j].Item1++;\n",
    "        }\n",
    "}\n",
    "void printmap()\n",
    "{\n",
    "    for (var i=0; i<maxx; i++)\n",
    "    {\n",
    "        for (var j=0; j<maxy; j++)\n",
    "        {\n",
    "            Console.Write(numbers[i][j].Item1);\n",
    "        }\n",
    "        Console.WriteLine();\n",
    "    }\n",
    "}\n",
    "//printmap();\n",
    "\n",
    "var flash = 0L;\n",
    "var times = 1L;\n",
    "for (; times <=100; times++)\n",
    "{\n",
    "    //cleanup array, increase numbers\n",
    "    for (var i=0; i<maxx; i++)\n",
    "        for (var j=0; j<maxy; j++)\n",
    "        {\n",
    "            numbers[i][j].Item1++;\n",
    "            numbers[i][j].Item2 = false;\n",
    "        }\n",
    "    //do flashes\n",
    "    var fl=0L;\n",
    "    var prefl=0L;\n",
    "    do\n",
    "    {\n",
    "        prefl = fl;\n",
    "        //check flashes\n",
    "        for (var i=0; i<maxx; i++)\n",
    "            for (var j=0; j<maxy; j++)\n",
    "            {\n",
    "                if (!numbers[i][j].Item2 &&\n",
    "                     numbers[i][j].Item1>9)\n",
    "                {\n",
    "                    //flash\n",
    "                    numbers[i][j].Item2 = true;\n",
    "                    numbers[i][j].Item1=0;\n",
    "                    fl++;\n",
    "                    //increase surrounding\n",
    "                    increase(i,j);\n",
    "                }\n",
    "            }\n",
    "    } while (fl!=prefl);\n",
    "    flash+=fl;\n",
    "    if ((times%10)==0)\n",
    "    {\n",
    "        Console.WriteLine($\"Step {times} {fl} {flash}\");\n",
    "        //printmap();\n",
    "    }\n",
    "}\n",
    "Console.WriteLine(flash);\n"
   ]
  },
  {
   "cell_type": "code",
   "execution_count": null,
   "metadata": {
    "dotnet_interactive": {
     "language": "csharp"
    }
   },
   "outputs": [
    {
     "name": "stdout",
     "output_type": "stream",
     "text": [
      "Step 110 0 1701\r\n",
      "Step 120 2 1848\r\n",
      "Step 130 5 2019\r\n",
      "Step 140 33 2180\r\n",
      "Step 150 40 2350\r\n",
      "Step 160 3 2477\r\n",
      "Step 170 19 2635\r\n",
      "Step 180 3 2789\r\n",
      "Step 190 0 2942\r\n",
      "Step 200 5 3117\r\n",
      "Step 210 13 3271\r\n",
      "Step 220 53 3453\r\n",
      "Step 230 37 3610\r\n",
      "Step 240 22 3750\r\n",
      "Step 250 29 3940\r\n",
      "Step 260 11 4085\r\n",
      "Step 270 16 4268\r\n",
      "Step 280 0 4415\r\n",
      "Step 290 27 4603\r\n",
      "Step 300 39 4780\r\n",
      "Step 310 22 4926\r\n",
      "Step 320 16 5104\r\n",
      "Step 330 47 5271\r\n",
      "Step 340 26 5420\r\n",
      "Step 350 10 5590\r\n",
      "Step 360 51 5768\r\n",
      "Step 370 10 5909\r\n",
      "Step 380 13 6084\r\n",
      "Step 390 60 6271\r\n",
      "Step 400 8 6390\r\n",
      "Step 410 67 6580\r\n",
      "Step 420 0 6706\r\n",
      "Step 430 3 6815\r\n",
      "Step 440 4 7009\r\n",
      "Step 450 7 7118\r\n",
      "Step 460 0 7218\r\n",
      "Step 470 0 7320\r\n",
      "471\r\n"
     ]
    }
   ],
   "source": [
    "while (true)\n",
    "{\n",
    "    //cleanup array, increase numbers\n",
    "    for (var i=0; i<maxx; i++)\n",
    "        for (var j=0; j<maxy; j++)\n",
    "        {\n",
    "            numbers[i][j].Item1++;\n",
    "            numbers[i][j].Item2 = false;\n",
    "        }\n",
    "    //do flashes\n",
    "    var fl=0L;\n",
    "    var prefl=0L;\n",
    "    do\n",
    "    {\n",
    "        prefl = fl;\n",
    "        //check flashes\n",
    "        for (var i=0; i<maxx; i++)\n",
    "            for (var j=0; j<maxy; j++)\n",
    "            {\n",
    "                if (!numbers[i][j].Item2 &&\n",
    "                     numbers[i][j].Item1>9)\n",
    "                {\n",
    "                    //flash\n",
    "                    numbers[i][j].Item2 = true;\n",
    "                    numbers[i][j].Item1=0;\n",
    "                    fl++;\n",
    "                    //increase surrounding\n",
    "                    increase(i,j);\n",
    "                }\n",
    "            }\n",
    "    } while (fl!=prefl);\n",
    "    flash+=fl;\n",
    "    if ((times%10)==0)\n",
    "    {\n",
    "        Console.WriteLine($\"Step {times} {fl} {flash}\");\n",
    "        //printmap();\n",
    "    }\n",
    "    if (fl==maxx*maxy) break;\n",
    "    times++;\n",
    "}\n",
    "Console.WriteLine(times);"
   ]
  },
  {
   "cell_type": "code",
   "execution_count": null,
   "metadata": {
    "dotnet_interactive": {
     "language": "csharp"
    }
   },
   "outputs": [
    {
     "name": "stdout",
     "output_type": "stream",
     "text": [
      "1\r\n",
      " 3 4 5 4 3\r\n",
      " 3101010 3\r\n",
      " 310 510 3\r\n",
      " 2101010 2\r\n",
      " 2 2 2 2 2\r\n",
      "\r\n"
     ]
    }
   ],
   "source": [
    "filedata = File.ReadLines(@\"..\\day11test2.input\");\n",
    "numbers = filedata.Select(x=>x.ToCharArray()\n",
    "                                .Select(c=>Int32.Parse(c.ToString()))\n",
    "                                .Select(c=>(c,false))\n",
    "                                .ToArray())\n",
    "                        .ToArray();\n",
    "\n",
    "Console.WriteLine(numbers[0][0].Item1);\n",
    "maxy = numbers[0].Length;\n",
    "maxx = numbers.Length;\n",
    "void printmap()\n",
    "{\n",
    "    for (var i=0; i<maxx; i++)\n",
    "    {\n",
    "        for (var j=0; j<maxy; j++)\n",
    "        {\n",
    "            var d =numbers[i][j].Item1;\n",
    "            var c = numbers[i][j].Item1>9?\"\":\" \";\n",
    "            Console.Write($\"{c}{d}\");\n",
    "        }\n",
    "        Console.WriteLine();\n",
    "    }\n",
    "    Console.WriteLine();\n",
    "}\n",
    "for (var i=0; i<maxx; i++)\n",
    "for (var j=0; j<maxy; j++)\n",
    "{\n",
    "    numbers[i][j].Item1++;\n",
    "    numbers[i][j].Item2 = false;\n",
    "}\n",
    "numbers[1][1].Item2=true;\n",
    "void increase (int x, int y)\n",
    "{\n",
    "    var inix = x-1<0?0:x-1;\n",
    "    var iniy = y-1<0?0:y-1;\n",
    "    var endx = x+1>=maxx?x:x+1;\n",
    "    var endy = y+1>=maxy?y:y+1;\n",
    "    for (var i=inix;i<=endx;i++)\n",
    "        for (var j=iniy;j<=endy;j++)\n",
    "        {\n",
    "            if (!numbers[i][j].Item2 &&\n",
    "                 numbers[i][j].Item1<=9)\n",
    "                 numbers[i][j].Item1++;\n",
    "        }\n",
    "}\n",
    "increase(1,1);\n",
    "numbers[1][2].Item2=true;\n",
    "increase(1,2);\n",
    "numbers[1][3].Item2=true;\n",
    "increase(1,3);\n",
    "printmap();\n"
   ]
  },
  {
   "cell_type": "code",
   "execution_count": null,
   "metadata": {
    "dotnet_interactive": {
     "language": "csharp"
    }
   },
   "outputs": [
    {
     "name": "stdout",
     "output_type": "stream",
     "text": [
      "55522\r\n",
      "55552\r\n",
      "55555\r\n",
      "55555\r\n",
      "55555\r\n",
      "55522\r\n",
      "55552\r\n",
      "55555\r\n",
      "55555\r\n",
      "55555\r\n"
     ]
    }
   ],
   "source": [
    "\n"
   ]
  }
 ],
 "metadata": {
  "kernelspec": {
   "display_name": ".NET (C#)",
   "language": "C#",
   "name": ".net-csharp"
  },
  "language_info": {
   "name": "C#"
  }
 },
 "nbformat": 4,
 "nbformat_minor": 2
}
