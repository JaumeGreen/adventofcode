{
 "cells": [
  {
   "cell_type": "code",
   "execution_count": null,
   "metadata": {
    "dotnet_interactive": {
     "language": "csharp"
    }
   },
   "outputs": [
    {
     "name": "stdout",
     "output_type": "stream",
     "text": [
      "ONHOOSCKBSVHBNKFKSBK\r\n",
      "ONHOOSCKBSVHBNKFKSBK\r\n",
      "2955-508=2447 K,S\r\n"
     ]
    }
   ],
   "source": [
    "using System.IO;\n",
    "using System.Linq;\n",
    "using System.Collections.Generic;\n",
    "\n",
    "var filedata = File.ReadAllLines(@\"..\\day14.input\");\n",
    "var template = filedata.First();\n",
    "//var rules = filedata.Skip(2);.ToDictonary<string,string>(x=>x.Split(\" -> \")[0], x=>x.Split(\" -> \")[1]);\n",
    "Dictionary<string,string> rules = new();\n",
    "foreach (var i in filedata.Skip(2))\n",
    "{\n",
    "    var f = i.Split(\" -> \");\n",
    "    rules[f[0]] = f[1];\n",
    "}\n",
    "\n",
    "string Insert (string a, string b) => $\"{a[0]}{b}\";\n",
    "string Iterate (string template, Dictionary<string,string> rules)\n",
    "{\n",
    "    var sb = new StringBuilder();\n",
    "    for (var i=1;i<template.Length;i++)\n",
    "    {\n",
    "        var s = $\"{template[i-1]}{template[i]}\";\n",
    "        var r = rules[s];\n",
    "        var n = Insert (s,r);\n",
    "        sb.Append(n);\n",
    "    }\n",
    "    sb.Append(template.Last());\n",
    "    return sb.ToString();\n",
    "}\n",
    "Console.WriteLine(template);\n",
    "var polymer = new string(template);\n",
    "for (var i =0; i<10; i++)\n",
    "{\n",
    "    polymer = Iterate(polymer,rules);\n",
    "}\n",
    "Console.WriteLine(template);\n",
    "var let = template.Distinct().ToDictionary(x=>x,x=>polymer.Count(y=>y==x));\n",
    "var maxk = let.MaxBy(k=>k.Value);\n",
    "var mink = let.MinBy(k=>k.Value);\n",
    "Console.WriteLine($\"{maxk.Value}-{mink.Value}={maxk.Value-mink.Value} {maxk.Key},{mink.Key}\");"
   ]
  },
  {
   "cell_type": "code",
   "execution_count": null,
   "metadata": {
    "dotnet_interactive": {
     "language": "csharp"
    }
   },
   "outputs": [
    {
     "name": "stdout",
     "output_type": "stream",
     "text": [
      "ONHOOSCKBSVHBNKFKSBK\r\n",
      "3633667383172-615648145609=3018019237563 K,S\r\n"
     ]
    }
   ],
   "source": [
    "Dictionary<string,long> pairs = new();\n",
    "void addpair(Dictionary<string,long> dic, string np, long count=1)\n",
    "{\n",
    "    if (dic.ContainsKey(np))\n",
    "        dic[np]+=count;\n",
    "    else\n",
    "        dic[np]=count;\n",
    "}\n",
    "\n",
    "for (var i=1;i<template.Length;i++)\n",
    "{\n",
    "    var s = $\"{template[i-1]}{template[i]}\";\n",
    "    addpair(pairs,s);\n",
    "}\n",
    "\n",
    "Dictionary<string,long> IterateDic (Dictionary<string,long> dic)\n",
    "{\n",
    "    Dictionary<string,long> temp = new();\n",
    "    foreach (var i in dic)\n",
    "    {\n",
    "        var k=rules[i.Key];\n",
    "        var s1 = $\"{i.Key[0]}{k}\";\n",
    "        var s2 = $\"{k}{i.Key[1]}\";\n",
    "        addpair(temp,s1,i.Value);\n",
    "        addpair(temp,s2,i.Value);\n",
    "    }\n",
    "    return temp;\n",
    "}\n",
    "\n",
    "Dictionary<string,long> CountLetters()\n",
    "{\n",
    "    Dictionary<string,long> result = new();\n",
    "    foreach (var i in pairs)\n",
    "    {\n",
    "        addpair(result,$\"{i.Key[0]}\", i.Value);\n",
    "    }\n",
    "    addpair(result,$\"{template.Last()}\", 1);\n",
    "    return result;\n",
    "}\n",
    "\n",
    "void printd(Dictionary<string,long> d, string msg)\n",
    "{\n",
    "    Console.WriteLine(msg);\n",
    "    foreach (var i in d)\n",
    "    {\n",
    "        Console.WriteLine($\"{i.Key} -> {i.Value}\");\n",
    "    }\n",
    "}\n",
    "\n",
    "Console.WriteLine(template);\n",
    "//printd(pairs, \"parelles\");\n",
    "//printd(CountLetters(),\"lleters\");\n",
    "for (var i =0; i<40; i++)\n",
    "{\n",
    "    pairs = IterateDic(pairs);\n",
    "    //printd(pairs, \"parelles\");\n",
    "    //printd(CountLetters(),\"lleters\");\n",
    "}\n",
    "\n",
    "var result = CountLetters();\n",
    "var maxk = result.MaxBy(k=>k.Value);\n",
    "var mink = result.MinBy(k=>k.Value);\n",
    "Console.WriteLine($\"{maxk.Value}-{mink.Value}={maxk.Value-mink.Value} {maxk.Key},{mink.Key}\");\n",
    "//7267334766343-1231296291218=6036038475125 K,S too high"
   ]
  }
 ],
 "metadata": {
  "kernelspec": {
   "display_name": ".NET (C#)",
   "language": "C#",
   "name": ".net-csharp"
  },
  "language_info": {
   "name": "C#"
  }
 },
 "nbformat": 4,
 "nbformat_minor": 2
}
