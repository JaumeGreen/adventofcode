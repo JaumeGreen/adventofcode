{
 "cells": [
  {
   "cell_type": "code",
   "execution_count": null,
   "metadata": {
    "dotnet_interactive": {
     "language": "csharp"
    }
   },
   "outputs": [
    {
     "name": "stdout",
     "output_type": "stream",
     "text": [
      "6267\r\n"
     ]
    }
   ],
   "source": [
    "using System.IO;\n",
    "\n",
    "var filedata = File.ReadLines(@\"..\\day5.input\");\n",
    "var ventsLines = filedata.Select(x=>x.Split(\"->\")\n",
    "                        .SelectMany(x=>x.Split(','))\n",
    "                        .Select(Int32.Parse)\n",
    "                        .ToArray());\n",
    "var ventMap = new Dictionary<(int,int),int>();\n",
    "foreach (var vl in ventsLines)\n",
    "{\n",
    "    var orx = Math.Min(vl[0],vl[2]);\n",
    "    var dex = Math.Max(vl[0],vl[2]);\n",
    "    var ory = Math.Min(vl[1],vl[3]);\n",
    "    var dey = Math.Max(vl[1],vl[3]);\n",
    "    if (orx!=dex && ory!=dey) continue;\n",
    "    //Console.WriteLine($\"*** {orx},{ory}->{dex},{dey} ***\");\n",
    "    for (var i=orx; i<=dex; i++)\n",
    "        for (var j=ory; j<=dey; j++)\n",
    "        {\n",
    "            if (ventMap.ContainsKey((i,j)))\n",
    "                ventMap[(i,j)]++;\n",
    "            else\n",
    "                ventMap[(i,j)]=1;\n",
    "            //Console.WriteLine($\"{i},{j} -> {ventMap[(i,j)]}\");\n",
    "        }\n",
    "}\n",
    "\n",
    "Console.WriteLine(ventMap.Count(x=>x.Value>=2));\n",
    "// 42628 too high"
   ]
  },
  {
   "cell_type": "code",
   "execution_count": null,
   "metadata": {
    "dotnet_interactive": {
     "language": "csharp"
    }
   },
   "outputs": [
    {
     "name": "stdout",
     "output_type": "stream",
     "text": [
      "20196\r\n"
     ]
    }
   ],
   "source": [
    "void inc(ref int x)=>x++;\n",
    "void dec(ref int x)=>x--;\n",
    "void nop(ref int x){}\n",
    "delegate void del(ref int number);\n",
    "bool gre(int x, int y) => x>=y;\n",
    "bool lwe(int x, int y) => x<=y;\n",
    "delegate bool cmp(int x, int y);\n",
    "\n",
    "ventMap = new Dictionary<(int,int),int>();\n",
    "foreach (var vl in ventsLines)\n",
    "{\n",
    "    var orx = vl[0];\n",
    "    var dex = vl[2];\n",
    "    var ory = vl[1];\n",
    "    var dey = vl[3];\n",
    "    del fi=orx>dex?dec:(orx<dex?inc:nop);\n",
    "    del fj=ory>dey?dec:(ory<dey?inc:nop);\n",
    "    cmp ci=orx>dex?gre:lwe;\n",
    "    cmp cj=ory>dey?gre:lwe;\n",
    "\n",
    "    //Console.WriteLine($\"*** {orx},{ory}->{dex},{dey} ***\");\n",
    "\n",
    "    for (int i=orx, j=ory; ci(i,dex) && cj(j,dey); fi(ref i), fj(ref j))\n",
    "    {\n",
    "        if (ventMap.ContainsKey((i,j)))\n",
    "            ventMap[(i,j)]++;\n",
    "        else\n",
    "            ventMap[(i,j)]=1;\n",
    "        //Console.WriteLine($\"{i},{j} -> {ventMap[(i,j)]}\");\n",
    "    }\n",
    "}\n",
    "\n",
    "Console.WriteLine(ventMap.Count(x=>x.Value>=2));\n",
    "//12931 too low"
   ]
  },
  {
   "cell_type": "code",
   "execution_count": null,
   "metadata": {
    "dotnet_interactive": {
     "language": "csharp"
    }
   },
   "outputs": [
    {
     "name": "stdout",
     "output_type": "stream",
     "text": [
      "1000000012\r\n",
      "0100100102\r\n",
      "1120101002\r\n",
      "0101210001\r\n",
      "0010300001\r\n",
      "0002120001\r\n",
      "0010301000\r\n",
      "1212200100\r\n",
      "1010100010\r\n",
      "0000100000\r\n"
     ]
    }
   ],
   "source": [
    "for (var i=0;i<10;i++)\n",
    "{\n",
    "    for (var j=0;j<10;j++)\n",
    "    {\n",
    "        Console.Write(ventMap.ContainsKey((i,j))?ventMap[(i,j)]:0);\n",
    "    }\n",
    "    Console.WriteLine();\n",
    "}"
   ]
  },
  {
   "cell_type": "code",
   "execution_count": null,
   "metadata": {
    "dotnet_interactive": {
     "language": "csharp"
    }
   },
   "outputs": [
    {
     "name": "stdout",
     "output_type": "stream",
     "text": [
      "9,4\r\n",
      "3,4\r\n",
      "9\r\n",
      "4\r\n",
      "3\r\n",
      "4\r\n",
      "9\r\n",
      "4\r\n",
      "3\r\n",
      "4\r\n",
      "[(3, 3), 4]\r\n",
      "[(0, 9), 2]\r\n",
      "[(1, 9), 2]\r\n",
      "[(2, 9), 2]\r\n",
      "[(3, 9), 1]\r\n",
      "[(4, 9), 1]\r\n",
      "[(5, 9), 1]\r\n",
      "[(3, 4), 2]\r\n",
      "[(4, 4), 2]\r\n",
      "[(5, 4), 1]\r\n",
      "[(6, 4), 1]\r\n",
      "[(7, 4), 2]\r\n",
      "[(8, 4), 1]\r\n",
      "[(9, 4), 1]\r\n",
      "[(2, 1), 1]\r\n",
      "[(2, 2), 2]\r\n",
      "[(7, 0), 1]\r\n",
      "[(7, 1), 1]\r\n",
      "[(7, 2), 1]\r\n",
      "[(7, 3), 1]\r\n",
      "[(1, 4), 1]\r\n",
      "[(2, 4), 1]\r\n",
      "[(0, 0), 1]\r\n",
      "[(1, 1), 1]\r\n",
      "[(3, 3), 1]\r\n",
      "[(5, 5), 1]\r\n",
      "[(6, 6), 1]\r\n",
      "[(7, 7), 1]\r\n",
      "[(8, 8), 1]\r\n"
     ]
    }
   ],
   "source": [
    "void ps (IEnumerable s) {foreach (var e in s) Console.WriteLine(e);}\n",
    "var s = \"9,4 -> 3,4\";\n",
    "var s1 = s.Split(\" -> \");\n",
    "ps(s1);\n",
    "var s2 = s1.SelectMany(x=>x.Split(','));\n",
    "ps(s2);\n",
    "var s3 = s2.Select(Int32.Parse);\n",
    "ps(s3);\n",
    "var dd = new Dictionary<(int,int),int>();\n",
    "dd[(3,3)]=4;\n",
    "ps (dd);\n",
    "ps(ventMap);"
   ]
  }
 ],
 "metadata": {
  "kernelspec": {
   "display_name": ".NET (C#)",
   "language": "C#",
   "name": ".net-csharp"
  },
  "language_info": {
   "name": "C#"
  }
 },
 "nbformat": 4,
 "nbformat_minor": 2
}
