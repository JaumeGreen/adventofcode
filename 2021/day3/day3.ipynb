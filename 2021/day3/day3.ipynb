{
 "cells": [
  {
   "cell_type": "code",
   "execution_count": null,
   "metadata": {
    "dotnet_interactive": {
     "language": "csharp"
    }
   },
   "outputs": [],
   "source": [
    "using System.IO;\n",
    "\n",
    "enum Direction {forward, down, up};\n",
    "var values = File.ReadAllLines(@\"..\\day3.input\")\n",
    "            .Select(x => x.ToArray());\n",
    "var total = values.Count();\n",
    "var counts = new int[values[0].Lenght];\n",
    "\n",
    "Console.WriteLine($\"{total} {counts.Lenght}\");\n"
   ]
  },
  {
   "cell_type": "code",
   "execution_count": null,
   "metadata": {
    "dotnet_interactive": {
     "language": "csharp"
    }
   },
   "outputs": [
    {
     "name": "stdout",
     "output_type": "stream",
     "text": [
      "2044620088\r\n"
     ]
    }
   ],
   "source": [
    "(h, d, _) = values.Aggregate((h: 0, d: 0, a: 0), (p, m ) =>\n",
    "    m.Item1 switch \n",
    "    {\n",
    "        'f' => (p.h+m.Item2, p.d+p.a*m.Item2, p.a),\n",
    "        'd' => (p.h        , p.d            , p.a+m.Item2),\n",
    "        'u' => (p.h        , p.d            , p.a-m.Item2),\n",
    "        _ => p,\n",
    "    });\n",
    "Console.WriteLine(h*d);"
   ]
  }
 ],
 "metadata": {
  "kernelspec": {
   "display_name": ".NET (C#)",
   "language": "C#",
   "name": ".net-csharp"
  },
  "language_info": {
   "name": "C#"
  }
 },
 "nbformat": 4,
 "nbformat_minor": 2
}
