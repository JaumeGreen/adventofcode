{
 "cells": [
  {
   "cell_type": "code",
   "execution_count": null,
   "metadata": {
    "dotnet_interactive": {
     "language": "csharp"
    }
   },
   "outputs": [
    {
     "name": "stdout",
     "output_type": "stream",
     "text": [
      "1000 12\r\n",
      "493 494 511 509 481 504 493 487 510 502 492 484 \r\n",
      "1101001100\r\n",
      "110010110011\r\n",
      "844 3251 2743844\r\n"
     ]
    }
   ],
   "source": [
    "using System.IO;\n",
    "\n",
    "enum Direction {forward, down, up};\n",
    "var values = File.ReadAllLines(@\"..\\day3.input\")\n",
    "            .Select(x => x.ToArray());\n",
    "var total = values.Count();\n",
    "\n",
    "Console.WriteLine($\"{total} {values.First().Length}\");\n",
    "\n",
    "var counts = values.Aggregate((new int[12]), (p,n)=>\n",
    "{\n",
    "    for (var i =0; i<12; i++)\n",
    "        if (n[i]=='1')\n",
    "            p[i]++;\n",
    "    return p;\n",
    "});\n",
    "\n",
    "for (var i =0; i<12; i++)\n",
    "    Console.Write($\"{counts[i]} \");\n",
    "Console.WriteLine();\n",
    "\n",
    "var gamma = counts.Aggregate(0, (p,n)=>p*2+(n>total/2?1:0));\n",
    "var epsilon  = gamma ^ 0b111111111111;\n",
    "Console.WriteLine($\"{Convert.ToString(gamma,toBase:2)}\");\n",
    "Console.WriteLine($\"{Convert.ToString(epsilon,toBase:2)}\");\n",
    "Console.WriteLine($\"{gamma} {epsilon} {gamma*epsilon}\");"
   ]
  },
  {
   "cell_type": "code",
   "execution_count": null,
   "metadata": {
    "dotnet_interactive": {
     "language": "csharp"
    }
   },
   "outputs": [
    {
     "name": "stdout",
     "output_type": "stream",
     "text": [
      "0 1000 493 0 507\r\n",
      "1 507 255 1 255\r\n",
      "2 255 135 1 135\r\n",
      "3 135 68 1 68\r\n",
      "4 68 39 1 39\r\n",
      "5 39 19 0 20\r\n",
      "6 20 10 1 10\r\n",
      "7 10 6 1 6\r\n",
      "8 6 5 1 5\r\n",
      "9 5 3 1 3\r\n",
      "10 3 1 0 2\r\n",
      "11 2 1 1 1\r\n",
      "0 1000 507 1 493\r\n",
      "1 493 254 1 239\r\n",
      "2 239 116 0 116\r\n",
      "3 116 60 1 56\r\n",
      "4 56 26 0 26\r\n",
      "5 26 13 0 13\r\n",
      "6 13 9 1 4\r\n",
      "7 4 1 0 1\r\n",
      "11110111101\r\n",
      "110100101011\r\n",
      "1981 3371 6677951\r\n"
     ]
    }
   ],
   "source": [
    "var oxygen=values;\n",
    "for (var i=0;i<12;i++)\n",
    "{\n",
    "    var countOxi = oxygen.Count(x=>x[i]=='1');\n",
    "    var vOxi = countOxi>=(oxygen.Count()-countOxi) ? '1' : '0';\n",
    "    Console.WriteLine($\"{i} {oxygen.Count()} {countOxi} {vOxi} {oxygen.Count(x=>x[i]==vOxi)}\");\n",
    "    oxygen = oxygen.Where(x=>x[i]==vOxi).ToList();\n",
    "    if (oxygen.Count()==1)\n",
    "        break;\n",
    " }\n",
    "\n",
    "var co2=values;\n",
    "for (var i=0;i<12;i++)\n",
    "{\n",
    "    var countCO2 = co2.Count(x=>x[i]=='0');\n",
    "    var vCO2 = countCO2<=(co2.Count()-countCO2) ? '0' : '1';\n",
    "    Console.WriteLine($\"{i} {co2.Count()} {countCO2} {vCO2} {co2.Count(x=>x[i]==vCO2)}\");\n",
    "    co2 = co2.Where(x=>x[i]==vCO2).ToList();;\n",
    "    if (co2.Count()==1)\n",
    "        break;\n",
    "}\n",
    "\n",
    "var oxygenVal = oxygen.First()\n",
    "                .Aggregate(0, (p,n)=>p*2+(n=='1'?1:0));\n",
    "var co2Val = co2.First()\n",
    "                .Aggregate(0, (p,n)=>p*2+(n=='1'?1:0));\n",
    "\n",
    "Console.WriteLine($\"{Convert.ToString(oxygenVal,toBase:2)}\");\n",
    "Console.WriteLine($\"{Convert.ToString(co2Val,toBase:2)}\");\n",
    "Console.WriteLine($\"{oxygenVal} {co2Val} {oxygenVal*co2Val}\");\n",
    "//3206455 too low\n",
    "//6819533 too high"
   ]
  }
 ],
 "metadata": {
  "kernelspec": {
   "display_name": ".NET (C#)",
   "language": "C#",
   "name": ".net-csharp"
  },
  "language_info": {
   "name": "C#"
  }
 },
 "nbformat": 4,
 "nbformat_minor": 2
}
