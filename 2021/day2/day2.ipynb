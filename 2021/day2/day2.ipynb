{
 "cells": [
  {
   "cell_type": "code",
   "execution_count": null,
   "metadata": {
    "dotnet_interactive": {
     "language": "csharp"
    }
   },
   "outputs": [
    {
     "name": "stdout",
     "output_type": "stream",
     "text": [
      "2147104\r\n"
     ]
    }
   ],
   "source": [
    "using System.IO;\n",
    "\n",
    "enum Direction {forward, down, up};\n",
    "var values = File.ReadAllLines(@\"..\\day2.input\").Select(x=>{\n",
    "    var parts = x.Split(' ');\n",
    "    Enum.TryParse(parts[0], out Direction dir);\n",
    "    var val = Int32.Parse(parts[1]);\n",
    "    return new {dir = dir, val = val};\n",
    "    });;\n",
    "var hor = 0;\n",
    "var dep = 0;\n",
    "\n",
    "foreach (var m in values) \n",
    "{\n",
    "    switch (m.dir)\n",
    "    {\n",
    "        case Direction.forward : hor+=m.val;break;\n",
    "        case Direction.down : dep+=m.val;break;\n",
    "        case Direction.up : dep-=m.val;break;\n",
    "    }\n",
    "}\n",
    "Console.WriteLine(hor*dep);"
   ]
  },
  {
   "cell_type": "code",
   "execution_count": null,
   "metadata": {
    "dotnet_interactive": {
     "language": "csharp"
    }
   },
   "outputs": [
    {
     "name": "stdout",
     "output_type": "stream",
     "text": [
      "2044620088\r\n"
     ]
    }
   ],
   "source": [
    "var h = 0;\n",
    "var d = 0;\n",
    "var a = 0;\n",
    "\n",
    "foreach (var m in values) \n",
    "{\n",
    "    switch (m.dir)\n",
    "    {\n",
    "        case Direction.forward : h+=m.val;d+=a*m.val;break;\n",
    "        case Direction.down : a+=m.val;break;\n",
    "        case Direction.up : a-=m.val;break;\n",
    "    }\n",
    "}\n",
    "Console.WriteLine(h*d);"
   ]
  }
 ],
 "metadata": {
  "kernelspec": {
   "display_name": ".NET (C#)",
   "language": "C#",
   "name": ".net-csharp"
  },
  "language_info": {
   "name": "C#"
  }
 },
 "nbformat": 4,
 "nbformat_minor": 2
}
