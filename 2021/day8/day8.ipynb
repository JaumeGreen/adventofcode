{
 "cells": [
  {
   "cell_type": "code",
   "execution_count": null,
   "metadata": {
    "dotnet_interactive": {
     "language": "csharp"
    }
   },
   "outputs": [
    {
     "name": "stdout",
     "output_type": "stream",
     "text": [
      "390\r\n"
     ]
    }
   ],
   "source": [
    "using System.IO;\n",
    "\n",
    "var filedata = File.ReadAllLines(@\"..\\day8.input\");\n",
    "\n",
    "var p1data = filedata.SelectMany(x=>x.Split(\" |\")[1].Split(\" \"))\n",
    "                     .Count(x=>x.Length is 2 or 3 or 4 or 7);\n",
    "Console.WriteLine(p1data);"
   ]
  },
  {
   "cell_type": "code",
   "execution_count": null,
   "metadata": {
    "dotnet_interactive": {
     "language": "csharp"
    }
   },
   "outputs": [
    {
     "name": "stdout",
     "output_type": "stream",
     "text": [
      " cdfeb bcdef 5\r\n",
      " fcadb abcdf 3\r\n",
      " cdfeb bcdef 5\r\n",
      " cdbaf abcdf 3\r\n",
      "\r\n",
      "5353\r\n",
      "1 ab\r\n",
      "7 abd\r\n",
      "4 abef\r\n",
      "8 abcdefg\r\n",
      "9 abcdef\r\n",
      "0 abcdeg\r\n",
      "6 bcdefg\r\n",
      "3 abcdf\r\n",
      "5 bcdef\r\n",
      "2 acdfg\r\n"
     ]
    }
   ],
   "source": [
    "var input = \"acedgfb cdfbe gcdfa fbcad dab cefabd cdfgeb eafb cagedb ab | cdfeb fcadb cdfeb cdbaf\";\n",
    "var test = input.Split(\" | \");\n",
    "bool HasAllOf(string b, string a)\n",
    "{\n",
    "    foreach (var c in a)\n",
    "        if (!b.Contains(c)) return false;\n",
    "    return true;\n",
    "}\n",
    "public class Comp : IComparer  {\n",
    "\n",
    "    // Calls CaseInsensitiveComparer.Compare with the parameters reversed.\n",
    "    int IComparer.Compare( Object x, Object y )  {\n",
    "        return( (new CaseInsensitiveComparer()).Compare( x, y ) );\n",
    "    }\n",
    " }\n",
    "string What(string a)\n",
    "{\n",
    "    return String.Concat(a.OrderBy(c => c));\n",
    "}\n",
    "Dictionary<string,int> Deduce (string dictionary)\n",
    "{\n",
    "    var dic = new Dictionary<string,int>();\n",
    "    var num = dictionary.Split(\" \",StringSplitOptions.RemoveEmptyEntries).ToList();\n",
    "    var one = What(num.Find(x=>x.Length is 2));\n",
    "    dic[one] = 1;\n",
    "    var seven = What(num.Find(x=>x.Length is 3));\n",
    "    dic[seven] = 7;\n",
    "    var four = What(num.Find(x=>x.Length is 4));\n",
    "    dic[four] = 4;\n",
    "    var eight = What(num.Find(x=>x.Length is 7));\n",
    "    dic[eight] = 8;\n",
    "    var nine = What(num.Find(x=>x.Length is 6 && HasAllOf(x,four)));\n",
    "    dic[nine]=9;\n",
    "    var zero = What(num.Find(x=>x.Length is 6 && HasAllOf(x,one) && !HasAllOf(x,four)));\n",
    "    dic[zero]=0;\n",
    "    var six = What(num.Find(x=>x.Length is 6 && !HasAllOf(x,one)));\n",
    "    dic[six]=6;\n",
    "    var three = What(num.Find(x=>x.Length is 5 && HasAllOf(x,seven)));\n",
    "    dic[three]=3;\n",
    "    var five = What(num.Find(x=>x.Length is 5 && HasAllOf(six,x)));\n",
    "    dic[five]=5;\n",
    "    var two =  What(num.Find(x=>x.Length is 5 && !HasAllOf(x,three) && !HasAllOf(x,five)));\n",
    "    dic[two]=2;\n",
    "    //Console.WriteLine($\"{one} {two} {three} {four} {five} {six} {seven} {eight} {nine} {zero}\");\n",
    "    return dic;\n",
    "}\n",
    "int Convert (string dic, string nums)\n",
    "{\n",
    "    var d= Deduce(dic);\n",
    "    var r = 0;\n",
    "    foreach(var n in nums.Split(\" \"))\n",
    "    {\n",
    "        r*=10;\n",
    "        r+=d[What(n)];\n",
    "    }\n",
    "    return r;\n",
    "}\n",
    "var testd = Deduce(test[0]);\n",
    "var testn = test[1].Split(\" \");\n",
    "foreach (var tt in testn)\n",
    "    Console.WriteLine($\" {tt} {What(tt)} {testd[What(tt)]}\");\n",
    "Console.WriteLine();\n",
    "Console.WriteLine(Convert(test[0],testn));\n",
    "foreach (var p in testd)\n",
    "    Console.WriteLine($\"{p.Value} {p.Key}\");"
   ]
  },
  {
   "cell_type": "code",
   "execution_count": null,
   "metadata": {
    "dotnet_interactive": {
     "language": "csharp"
    }
   },
   "outputs": [
    {
     "name": "stdout",
     "output_type": "stream",
     "text": [
      "cefabd True\r\n",
      "cdfgeb False\r\n",
      "cagedb False\r\n"
     ]
    }
   ],
   "source": [
    "var num = test[0].Split(\" \",StringSplitOptions.RemoveEmptyEntries).ToList();\n",
    "var four = num.Find(x=>x.Length is 4);\n",
    "foreach (var i in num.Where(x=>x.Length is 6))\n",
    "    Console.WriteLine($\"{i} {HasAllOf(i,four)}\");"
   ]
  },
  {
   "cell_type": "code",
   "execution_count": null,
   "metadata": {
    "dotnet_interactive": {
     "language": "csharp"
    }
   },
   "outputs": [
    {
     "name": "stdout",
     "output_type": "stream",
     "text": [
      "1011785\r\n"
     ]
    }
   ],
   "source": [
    "var p2data = filedata.Select(x=>x.Split(\" | \"))\n",
    "            .Select(x=>Convert(x[0],x[1]))\n",
    "            .Sum();\n",
    "Console.WriteLine(p2data);\n"
   ]
  }
 ],
 "metadata": {
  "kernelspec": {
   "display_name": ".NET (C#)",
   "language": "C#",
   "name": ".net-csharp"
  },
  "language_info": {
   "name": "C#"
  }
 },
 "nbformat": 4,
 "nbformat_minor": 2
}
