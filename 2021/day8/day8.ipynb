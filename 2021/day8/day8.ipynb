{
 "cells": [
  {
   "cell_type": "code",
   "execution_count": null,
   "metadata": {
    "dotnet_interactive": {
     "language": "csharp"
    }
   },
   "outputs": [
    {
     "name": "stdout",
     "output_type": "stream",
     "text": [
      "390\r\n"
     ]
    }
   ],
   "source": [
    "using System.IO;\n",
    "\n",
    "var filedata = File.ReadAllLines(@\"..\\day8.input\");\n",
    "\n",
    "var p1data = filedata.SelectMany(x=>x.Split(\" |\")[1].Split(\" \"))\n",
    "                     .Count(x=>x.Length is 2 or 3 or 4 or 7);\n",
    "Console.WriteLine(p1data);"
   ]
  },
  {
   "cell_type": "code",
   "execution_count": null,
   "metadata": {
    "dotnet_interactive": {
     "language": "csharp"
    }
   },
   "outputs": [
    {
     "name": "stdout",
     "output_type": "stream",
     "text": [
      "ab\r\n",
      "ab dab\r\n",
      "ab eafb dab\r\n",
      "ab eafb dab acedgfb\r\n"
     ]
    },
    {
     "ename": "Error",
     "evalue": "System.ArgumentNullException: Value cannot be null. (Parameter 'key')\r\n   at System.Collections.Generic.Dictionary`2.TryInsert(TKey key, TValue value, InsertionBehavior behavior)\r\n   at System.Collections.Generic.Dictionary`2.set_Item(TKey key, TValue value)\r\n   at Submission#8.Deduce(String dictionary)\r\n   at Submission#8.<<Initialize>>d__0.MoveNext()\r\n--- End of stack trace from previous location ---\r\n   at Microsoft.CodeAnalysis.Scripting.ScriptExecutionState.RunSubmissionsAsync[TResult](ImmutableArray`1 precedingExecutors, Func`2 currentExecutor, StrongBox`1 exceptionHolderOpt, Func`2 catchExceptionOpt, CancellationToken cancellationToken)",
     "output_type": "error",
     "traceback": [
      "System.ArgumentNullException: Value cannot be null. (Parameter 'key')\r\n",
      "   at System.Collections.Generic.Dictionary`2.TryInsert(TKey key, TValue value, InsertionBehavior behavior)\r\n",
      "   at System.Collections.Generic.Dictionary`2.set_Item(TKey key, TValue value)\r\n",
      "   at Submission#8.Deduce(String dictionary)\r\n",
      "   at Submission#8.<<Initialize>>d__0.MoveNext()\r\n",
      "--- End of stack trace from previous location ---\r\n",
      "   at Microsoft.CodeAnalysis.Scripting.ScriptExecutionState.RunSubmissionsAsync[TResult](ImmutableArray`1 precedingExecutors, Func`2 currentExecutor, StrongBox`1 exceptionHolderOpt, Func`2 catchExceptionOpt, CancellationToken cancellationToken)"
     ]
    }
   ],
   "source": [
    "var input = \"acedgfb cdfbe gcdfa fbcad dab cefabd cdfgeb eafb cagedb ab | cdfeb fcadb cdfeb cdbaf\";\n",
    "var test = input.Split(\" | \");\n",
    "bool HasAllOf(string a, string b)\n",
    "{\n",
    "    foreach (var c in a)\n",
    "        if (!b.Contains(c)) return false;\n",
    "    return true;\n",
    "}\n",
    "Dictionary<string,int> Deduce (string dictionary)\n",
    "{\n",
    "    var dic = new Dictionary<string,int>();\n",
    "    var num = dictionary.Split(\" \",StringSplitOptions.RemoveEmptyEntries).ToList();\n",
    "    var one = num.Find(x=>x.Length is 2);\n",
    "    Console.WriteLine($\"{one}\");\n",
    "    dic[one] = 1;\n",
    "    var seven = num.Find(x=>x.Length is 3);\n",
    "    Console.WriteLine($\"{one} {seven}\");\n",
    "    dic[seven] = 7;\n",
    "    var four = num.Find(x=>x.Length is 4);\n",
    "    Console.WriteLine($\"{one} {four} {seven}\");\n",
    "    dic[four] = 4;\n",
    "    var eight = num.Find(x=>x.Length is 7);\n",
    "    Console.WriteLine($\"{one} {four} {seven} {eight}\");\n",
    "    dic[eight] = 8;\n",
    "    var nine = num.Find(x=>x.Length is 6 && HasAllOf(x,four));\n",
    "    Console.WriteLine($\"{one} {four} {seven} {eight} {nine}\");\n",
    "    dic[nine]=9;\n",
    "    var zero = num.Find(x=>x.Length is 6 && HasAllOf(x,one) && !HasAllOf(x,four));\n",
    "    Console.WriteLine($\"{one} {four} {seven} {eight} {nine} {zero}\");\n",
    "    dic[zero]=0;\n",
    "    var six = num.Find(x=>x.Length is 6 && !HasAllOf(x,one));\n",
    "    Console.WriteLine($\"{one} {four} {six} {seven} {eight} {nine} {zero}\");\n",
    "    dic[six]=6;\n",
    "    var three = num.Find(x=>x.Length is 5 && HasAllOf(x,seven));\n",
    "    Console.WriteLine($\"{one} {three} {four} {six} {seven} {eight} {nine} {zero}\");\n",
    "    dic[three]=3;\n",
    "    var five = num.Find(x=>x.Length is 5 && HasAllOf(six,x));\n",
    "    Console.WriteLine($\"{one} {three} {four} {five} {six} {seven} {eight} {nine} {zero}\");\n",
    "    dic[five]=5;\n",
    "    var two =  num.Find(x=>x.Length is 5 && x!=three && x!=five);\n",
    "    Console.WriteLine($\"{one} {two} {three} {four} {five} {six} {seven} {eight} {nine} {zero}\");\n",
    "    dic[two]=2;\n",
    "    return dic;\n",
    "}\n",
    "var testd = Deduce(test[0]);\n",
    "var testn = test[1].Split(\" \");\n",
    "foreach (var tt in testn)\n",
    "    Console.Write(testd[tt]);"
   ]
  },
  {
   "cell_type": "code",
   "execution_count": null,
   "metadata": {
    "dotnet_interactive": {
     "language": "csharp"
    }
   },
   "outputs": [],
   "source": [
    "var p2data = filedata.SelectMany(x=>x.Split(\" | \"));"
   ]
  }
 ],
 "metadata": {
  "kernelspec": {
   "display_name": ".NET (C#)",
   "language": "C#",
   "name": ".net-csharp"
  },
  "language_info": {
   "name": "C#"
  }
 },
 "nbformat": 4,
 "nbformat_minor": 2
}
