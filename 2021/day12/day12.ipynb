{
 "cells": [
  {
   "cell_type": "code",
   "execution_count": null,
   "metadata": {
    "dotnet_interactive": {
     "language": "csharp"
    }
   },
   "outputs": [
    {
     "name": "stdout",
     "output_type": "stream",
     "text": [
      "4549\r\n"
     ]
    }
   ],
   "source": [
    "using System.IO;\n",
    "\n",
    "var filedata = File.ReadAllLines(@\"..\\day12.input\")\n",
    "                    .Select(x=>x.Split(\"-\").ToArray());\n",
    "\n",
    "Dictionary<string,List<string>> CreatePathways (IEnumerable<IEnumerable<string>> data)\n",
    "{\n",
    "    Dictionary<string,List<string>> dic = new();\n",
    "    void Add(string x,string y) \n",
    "    {\n",
    "        if (dic.ContainsKey(x))\n",
    "            dic[x].Add(y);\n",
    "        else\n",
    "            dic[x]=new List<string>() {y};\n",
    "    }\n",
    "    foreach (var it in data)\n",
    "    {\n",
    "        var a = it.First();\n",
    "        var b = it.Skip(1).First();\n",
    "        if (a!=\"end\" && b!=\"start\")\n",
    "        {\n",
    "            Add(a,b);\n",
    "        }\n",
    "        if (b!=\"end\" && a!=\"start\")\n",
    "        {\n",
    "            Add(b,a);\n",
    "        }\n",
    "    }\n",
    "    return dic;\n",
    "}\n",
    "\n",
    "var graph = CreatePathways(filedata);\n",
    "\n",
    "List<List<string>> NewPaths (List<string> path)\n",
    "{\n",
    "    var l = path.Last();\n",
    "    if (!graph.ContainsKey(l))\n",
    "        return null;\n",
    "\n",
    "    List<List<string>> r = new();\n",
    "    foreach (var it in graph[l])\n",
    "    {\n",
    "        if (Char.IsUpper(it[0]) ||\n",
    "            !path.Contains(it))\n",
    "        {\n",
    "            var nl = new List<string>(path);\n",
    "            nl.Add(it);\n",
    "            r.Add(nl);\n",
    "        }\n",
    "    }\n",
    "    return r;\n",
    "}\n",
    "\n",
    "List<List<string>> paths = new();\n",
    "Stack<List<string>> tempPaths = new();\n",
    "var f = new List<string>(){\"start\"};\n",
    "tempPaths.Push(f);\n",
    "\n",
    "while (tempPaths.Any())\n",
    "{\n",
    "    var t = tempPaths.Pop();\n",
    "    var tp = NewPaths (t);\n",
    "    paths.AddRange(tp.Where(x=>x.Last()==\"end\"));\n",
    "    foreach (var it in tp.Where(x=>x.Last()!=\"end\"))\n",
    "        tempPaths.Push(it);\n",
    "}\n",
    "\n",
    "Console.WriteLine(paths.Count());"
   ]
  },
  {
   "cell_type": "code",
   "execution_count": null,
   "metadata": {
    "dotnet_interactive": {
     "language": "csharp"
    }
   },
   "outputs": [
    {
     "name": "stdout",
     "output_type": "stream",
     "text": [
      "120535\r\n"
     ]
    }
   ],
   "source": [
    "var filedata2 = File.ReadAllLines(@\"..\\day12.input\")\n",
    "                    .Select(x=>x.Split(\"-\").ToArray());\n",
    "\n",
    "var graph2 = CreatePathways(filedata2);\n",
    "\n",
    "//foreach (var kv in graph2)\n",
    "//Console.WriteLine ($\"{kv.Key}->{string.Join(\", \",kv.Value)}\");\n",
    "\n",
    "public record Way\n",
    "{\n",
    "    public readonly List<string> path = new();\n",
    "    public bool doubled = false;\n",
    "}\n",
    "\n",
    "List<Way> NewPathsWay (Way way)\n",
    "{\n",
    "    //Console.WriteLine(string.Join(\",\",way.path));\n",
    "    var l = way.path.Last();\n",
    "    if (!graph2.ContainsKey(l))\n",
    "        return null;\n",
    "\n",
    "    List<Way> r = new();\n",
    "    foreach (var it in graph2[l])\n",
    "    {\n",
    "        if (Char.IsUpper(it[0]) ||\n",
    "            !way.path.Contains(it) ||\n",
    "            !way.doubled\n",
    "            )\n",
    "        {\n",
    "            var nl = new Way();\n",
    "            nl.path.AddRange(way.path);\n",
    "            nl.path.Add(it);\n",
    "            nl.doubled = way.doubled;\n",
    "            if (!Char.IsUpper(it[0]) &&\n",
    "                way.path.Contains(it))\n",
    "                nl.doubled = true;\n",
    "            r.Add(nl);\n",
    "        }\n",
    "    }\n",
    "    return r;\n",
    "}\n",
    "\n",
    "List<Way> paths = new();\n",
    "Stack<Way> tempPaths = new();\n",
    "var f = new Way();\n",
    "f.path.Add(\"start\");\n",
    "tempPaths.Push(f);\n",
    "\n",
    "while (tempPaths.Any())\n",
    "{\n",
    "    var t = tempPaths.Pop();\n",
    "    var tp = NewPathsWay (t);\n",
    "    paths.AddRange(tp.Where(x=>x.path.Last()==\"end\"));\n",
    "    foreach (var it in tp.Where(x=>x.path.Last()!=\"end\"))\n",
    "        tempPaths.Push(it);\n",
    "}\n",
    "\n",
    "Console.WriteLine(paths.Count());"
   ]
  }
 ],
 "metadata": {
  "kernelspec": {
   "display_name": ".NET (C#)",
   "language": "C#",
   "name": ".net-csharp"
  },
  "language_info": {
   "name": "C#"
  }
 },
 "nbformat": 4,
 "nbformat_minor": 2
}
